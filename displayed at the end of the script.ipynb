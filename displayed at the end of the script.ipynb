{
 "cells": [
  {
   "cell_type": "code",
   "execution_count": 41,
   "id": "25059dd1",
   "metadata": {},
   "outputs": [],
   "source": [
    "\n",
    "# Load the model evaluations from the CSV file\n",
    "model_evaluations = pd.read_csv('model_evaluations.csv')\n"
   ]
  },
  {
   "cell_type": "code",
   "execution_count": 42,
   "id": "0d9f65b1",
   "metadata": {},
   "outputs": [],
   "source": [
    "# Calculate overall model performance metrics\n",
    "mean_accuracy = model_evaluations['Accuracy'].mean()  # Mean accuracy\n",
    "max_accuracy = model_evaluations['Accuracy'].max()    # Maximum accuracy"
   ]
  },
  {
   "cell_type": "code",
   "execution_count": 43,
   "id": "9c7fa699",
   "metadata": {},
   "outputs": [
    {
     "name": "stdout",
     "output_type": "stream",
     "text": [
      "Overall Mean Accuracy: 95.01%\n",
      "Maximum Accuracy Achieved: 95.01%\n"
     ]
    }
   ],
   "source": [
    "# Print the overall model performance\n",
    "print(f\"Overall Mean Accuracy: {mean_accuracy * 100:.2f}%\")\n",
    "print(f\"Maximum Accuracy Achieved: {max_accuracy * 100:.2f}%\")"
   ]
  }
 ],
 "metadata": {
  "kernelspec": {
   "display_name": "dev",
   "language": "python",
   "name": "dev"
  },
  "language_info": {
   "codemirror_mode": {
    "name": "ipython",
    "version": 3
   },
   "file_extension": ".py",
   "mimetype": "text/x-python",
   "name": "python",
   "nbconvert_exporter": "python",
   "pygments_lexer": "ipython3",
   "version": "3.10.12"
  }
 },
 "nbformat": 4,
 "nbformat_minor": 5
}
