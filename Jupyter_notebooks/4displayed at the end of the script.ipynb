{
 "cells": [
  {
   "cell_type": "code",
   "execution_count": 1,
   "id": "0c720045",
   "metadata": {},
   "outputs": [],
   "source": [
    "import pandas as pd"
   ]
  },
  {
   "cell_type": "code",
   "execution_count": 3,
   "id": "25059dd1",
   "metadata": {},
   "outputs": [],
   "source": [
    "model_evaluations = pd.read_csv('../csvs_files/model1_performance.csv')\n",
    "\n"
   ]
  },
  {
   "cell_type": "code",
   "execution_count": 5,
   "id": "6a436eed",
   "metadata": {},
   "outputs": [],
   "source": [
    "model2_evaluations = pd.read_csv('../csvs_files/mode2_performance.csv')\n"
   ]
  },
  {
   "cell_type": "code",
   "execution_count": 6,
   "id": "0d9f65b1",
   "metadata": {},
   "outputs": [],
   "source": [
    "mean_accuracy = model_evaluations['Test Accuracy'].mean()  # Mean accuracy\n",
    "max_accuracy = model_evaluations['Test Accuracy'].max()    # Maximum accuracy\n",
    "\n"
   ]
  },
  {
   "cell_type": "code",
   "execution_count": 7,
   "id": "5f77218f",
   "metadata": {},
   "outputs": [
    {
     "name": "stdout",
     "output_type": "stream",
     "text": [
      "Mean Accuracy: 93.84%\n",
      "Maximum Accuracy: 93.84%\n"
     ]
    }
   ],
   "source": [
    "print(f\"Mean Accuracy: {mean_accuracy * 100:.2f}%\")\n",
    "print(f\"Maximum Accuracy: {max_accuracy * 100:.2f}%\")"
   ]
  },
  {
   "cell_type": "code",
   "execution_count": 8,
   "id": "e4d7fb98",
   "metadata": {},
   "outputs": [],
   "source": [
    "mean_accuracy = model2_evaluations['Test Accuracy'].mean()  # Mean accuracy\n",
    "max_accuracy = model2_evaluations['Test Accuracy'].max()    # Maximum accuracy"
   ]
  },
  {
   "cell_type": "code",
   "execution_count": 9,
   "id": "9c7fa699",
   "metadata": {},
   "outputs": [
    {
     "name": "stdout",
     "output_type": "stream",
     "text": [
      "Mean Accuracy: 94.91%\n",
      "Maximum Accuracy: 94.91%\n"
     ]
    }
   ],
   "source": [
    "print(f\"Mean Accuracy: {mean_accuracy * 100:.2f}%\")\n",
    "print(f\"Maximum Accuracy: {max_accuracy * 100:.2f}%\")\n"
   ]
  }
 ],
 "metadata": {
  "kernelspec": {
   "display_name": "dev",
   "language": "python",
   "name": "dev"
  },
  "language_info": {
   "codemirror_mode": {
    "name": "ipython",
    "version": 3
   },
   "file_extension": ".py",
   "mimetype": "text/x-python",
   "name": "python",
   "nbconvert_exporter": "python",
   "pygments_lexer": "ipython3",
   "version": "3.10.12"
  }
 },
 "nbformat": 4,
 "nbformat_minor": 5
}
