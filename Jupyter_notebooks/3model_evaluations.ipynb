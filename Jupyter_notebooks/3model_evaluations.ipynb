{
 "cells": [
  {
   "cell_type": "code",
   "execution_count": 1,
   "id": "8c51e8ca",
   "metadata": {},
   "outputs": [
    {
     "name": "stdout",
     "output_type": "stream",
     "text": [
      "WARNING:tensorflow:From C:\\Users\\umran\\anaconda3\\envs\\dev\\lib\\site-packages\\keras\\src\\losses.py:2976: The name tf.losses.sparse_softmax_cross_entropy is deprecated. Please use tf.compat.v1.losses.sparse_softmax_cross_entropy instead.\n",
      "\n"
     ]
    }
   ],
   "source": [
    "import pandas as pd\n",
    "from sklearn.model_selection import train_test_split\n",
    "from sklearn.preprocessing import StandardScaler, OneHotEncoder\n",
    "from tensorflow.keras.models import Sequential\n",
    "from tensorflow.keras.layers import Dense\n",
    "from sklearn.ensemble import GradientBoostingClassifier\n",
    "from sklearn.metrics import accuracy_score\n",
    "\n"
   ]
  },
  {
   "cell_type": "code",
   "execution_count": 2,
   "id": "4aaeae94",
   "metadata": {},
   "outputs": [],
   "source": [
    "# Load the data\n",
    "file_path = '../csvs_files/cleaning_data2.csv'\n",
    "data = pd.read_csv(file_path)\n",
    "\n"
   ]
  },
  {
   "cell_type": "code",
   "execution_count": 3,
   "id": "3b4720c8",
   "metadata": {},
   "outputs": [],
   "source": [
    "# Separate features (X) and target variable (y)\n",
    "X = data.drop(columns=['stroke'])  \n",
    "y = data['stroke']  \n",
    "\n",
    "# Identify numeric and categorical columns\n",
    "numeric_columns = ['age', 'avg_glucose_level', 'bmi']\n",
    "categorical_columns = ['gender', 'ever_married', 'work_type', 'Residence_type', 'smoking_status']\n",
    "\n"
   ]
  },
  {
   "cell_type": "code",
   "execution_count": 4,
   "id": "cc30c0ae",
   "metadata": {},
   "outputs": [],
   "source": [
    "# Preprocess numeric data (scaling)\n",
    "scaler = StandardScaler()\n",
    "X[numeric_columns] = scaler.fit_transform(X[numeric_columns])\n",
    "\n",
    "# Preprocess categorical data (one-hot encoding)\n",
    "encoder = OneHotEncoder(sparse=False, handle_unknown='ignore')\n",
    "X_encoded = pd.get_dummies(X[categorical_columns])\n",
    "X.drop(columns=categorical_columns, inplace=True)\n",
    "X = pd.concat([X, X_encoded], axis=1)\n",
    "\n"
   ]
  },
  {
   "cell_type": "code",
   "execution_count": 5,
   "id": "6176d99b",
   "metadata": {},
   "outputs": [
    {
     "name": "stdout",
     "output_type": "stream",
     "text": [
      "WARNING:tensorflow:From C:\\Users\\umran\\anaconda3\\envs\\dev\\lib\\site-packages\\keras\\src\\backend.py:873: The name tf.get_default_graph is deprecated. Please use tf.compat.v1.get_default_graph instead.\n",
      "\n",
      "WARNING:tensorflow:From C:\\Users\\umran\\anaconda3\\envs\\dev\\lib\\site-packages\\keras\\src\\optimizers\\__init__.py:309: The name tf.train.Optimizer is deprecated. Please use tf.compat.v1.train.Optimizer instead.\n",
      "\n",
      "Epoch 1/10\n",
      "WARNING:tensorflow:From C:\\Users\\umran\\anaconda3\\envs\\dev\\lib\\site-packages\\keras\\src\\utils\\tf_utils.py:492: The name tf.ragged.RaggedTensorValue is deprecated. Please use tf.compat.v1.ragged.RaggedTensorValue instead.\n",
      "\n",
      "WARNING:tensorflow:From C:\\Users\\umran\\anaconda3\\envs\\dev\\lib\\site-packages\\keras\\src\\engine\\base_layer_utils.py:384: The name tf.executing_eagerly_outside_functions is deprecated. Please use tf.compat.v1.executing_eagerly_outside_functions instead.\n",
      "\n",
      "115/115 [==============================] - 1s 4ms/step - loss: 490.1565 - accuracy: 0.8285 - val_loss: 27.3218 - val_accuracy: 0.9487\n",
      "Epoch 2/10\n",
      "115/115 [==============================] - 0s 2ms/step - loss: 15.0134 - accuracy: 0.9174 - val_loss: 3.2110 - val_accuracy: 0.9487\n",
      "Epoch 3/10\n",
      "115/115 [==============================] - 0s 2ms/step - loss: 11.4629 - accuracy: 0.9060 - val_loss: 25.0149 - val_accuracy: 0.9487\n",
      "Epoch 4/10\n",
      "115/115 [==============================] - 0s 2ms/step - loss: 11.1069 - accuracy: 0.9185 - val_loss: 24.7974 - val_accuracy: 0.9487\n",
      "Epoch 5/10\n",
      "115/115 [==============================] - 0s 2ms/step - loss: 15.2261 - accuracy: 0.9171 - val_loss: 22.6632 - val_accuracy: 0.9487\n",
      "Epoch 6/10\n",
      "115/115 [==============================] - 0s 2ms/step - loss: 12.8174 - accuracy: 0.9106 - val_loss: 14.2966 - val_accuracy: 0.9487\n",
      "Epoch 7/10\n",
      "115/115 [==============================] - 0s 2ms/step - loss: 16.9229 - accuracy: 0.9125 - val_loss: 18.1182 - val_accuracy: 0.9487\n",
      "Epoch 8/10\n",
      "115/115 [==============================] - 0s 2ms/step - loss: 14.1545 - accuracy: 0.9141 - val_loss: 25.0178 - val_accuracy: 0.9487\n",
      "Epoch 9/10\n",
      "115/115 [==============================] - 0s 2ms/step - loss: 14.5438 - accuracy: 0.9168 - val_loss: 24.8900 - val_accuracy: 0.9487\n",
      "Epoch 10/10\n",
      "115/115 [==============================] - 0s 2ms/step - loss: 16.5123 - accuracy: 0.9160 - val_loss: 31.2090 - val_accuracy: 0.9487\n",
      "32/32 [==============================] - 0s 2ms/step - loss: 36.6717 - accuracy: 0.9393\n",
      "Test Accuracy: 93.93%\n"
     ]
    }
   ],
   "source": [
    "# Split the data into train and test sets\n",
    "X_train, X_test, y_train, y_test = train_test_split(X, y, test_size=0.2, random_state=42)\n",
    "\n",
    "# Define the neural network model\n",
    "model = Sequential([\n",
    "    Dense(64, activation='relu', input_shape=(X_train.shape[1],)),\n",
    "    Dense(1, activation='sigmoid')\n",
    "])\n",
    "\n",
    "# Compile the model\n",
    "model.compile(optimizer='adam', loss='binary_crossentropy', metrics=['accuracy'])\n",
    "\n",
    "# Train the model\n",
    "model.fit(X_train, y_train, epochs=10, batch_size=32, validation_split=0.1)\n",
    "\n",
    "# Evaluate the model on test data\n",
    "test_loss, test_accuracy = model.evaluate(X_test, y_test)\n",
    "print(f\"Test Accuracy: {test_accuracy * 100:.2f}%\")\n"
   ]
  },
  {
   "cell_type": "code",
   "execution_count": 9,
   "id": "c8e8f26a",
   "metadata": {},
   "outputs": [],
   "source": [
    "# Save log_data to CSV\n",
    "\n",
    "log_data = pd.DataFrame({\n",
    "    'Model': ['Neural Network'],\n",
    "    'Test Accuracy': [test_accuracy]\n",
    "})\n",
    "\n",
    "log_data.to_csv('../csvs_files/model1_performance.csv', index=False)"
   ]
  },
  {
   "cell_type": "code",
   "execution_count": 10,
   "id": "a30c1d75",
   "metadata": {},
   "outputs": [
    {
     "name": "stdout",
     "output_type": "stream",
     "text": [
      "Epoch 1/10\n",
      "115/115 [==============================] - 1s 4ms/step - loss: 93.8401 - accuracy: 0.9098 - val_loss: 180.9905 - val_accuracy: 0.0391\n",
      "Epoch 2/10\n",
      "115/115 [==============================] - 0s 2ms/step - loss: 38.4912 - accuracy: 0.9027 - val_loss: 39.7898 - val_accuracy: 0.0391\n",
      "Epoch 3/10\n",
      "115/115 [==============================] - 0s 2ms/step - loss: 47.7633 - accuracy: 0.9019 - val_loss: 52.2189 - val_accuracy: 0.9609\n",
      "Epoch 4/10\n",
      "115/115 [==============================] - 0s 2ms/step - loss: 38.9061 - accuracy: 0.9046 - val_loss: 57.4746 - val_accuracy: 0.9609\n",
      "Epoch 5/10\n",
      "115/115 [==============================] - 0s 2ms/step - loss: 46.6059 - accuracy: 0.9016 - val_loss: 5.7460 - val_accuracy: 0.9609\n",
      "Epoch 6/10\n",
      "115/115 [==============================] - 0s 2ms/step - loss: 33.0777 - accuracy: 0.9138 - val_loss: 29.7319 - val_accuracy: 0.9584\n",
      "Epoch 7/10\n",
      "115/115 [==============================] - 0s 3ms/step - loss: 37.4291 - accuracy: 0.9021 - val_loss: 39.9508 - val_accuracy: 0.9609\n",
      "Epoch 8/10\n",
      "115/115 [==============================] - 0s 3ms/step - loss: 30.5280 - accuracy: 0.9111 - val_loss: 8.4610 - val_accuracy: 0.9609\n",
      "Epoch 9/10\n",
      "115/115 [==============================] - 0s 2ms/step - loss: 34.4865 - accuracy: 0.9106 - val_loss: 54.8605 - val_accuracy: 0.9609\n",
      "Epoch 10/10\n",
      "115/115 [==============================] - 0s 2ms/step - loss: 26.4176 - accuracy: 0.9035 - val_loss: 15.9027 - val_accuracy: 0.9609\n",
      "32/32 [==============================] - 0s 2ms/step - loss: 17.1974 - accuracy: 0.9491\n",
      "Test Accuracy: 94.91%\n"
     ]
    }
   ],
   "source": [
    "#  the second model\n",
    "# Split the data into train and test sets\n",
    "X_train, X_test, y_train, y_test = train_test_split(X, y, test_size=0.2, random_state=164)\n",
    "model_2 = Sequential([\n",
    "    Dense(150, activation='relu', input_shape=(X.shape[1],)),\n",
    "    Dense(64, activation='relu'),\n",
    "    Dense(1, activation='sigmoid')\n",
    "])\n",
    "\n",
    "# Compile and train the second model\n",
    "model_2.compile(optimizer='adam', loss='binary_crossentropy', metrics=['accuracy'])\n",
    "model_2.fit(X_train, y_train, epochs=10, batch_size=32, validation_split=0.1)\n",
    "# Evaluate the model on test data\n",
    "test_loss, test_accuracy = model_2.evaluate(X_test, y_test)\n",
    "print(f\"Test Accuracy: {test_accuracy * 100:.2f}%\")"
   ]
  },
  {
   "cell_type": "code",
   "execution_count": 11,
   "id": "32ed77a7",
   "metadata": {},
   "outputs": [],
   "source": [
    "# Save log_data to CSV\n",
    "log_data = pd.DataFrame({\n",
    "    'Model': ['Neural Network'],\n",
    "    'Test Accuracy': [test_accuracy]\n",
    "})\n",
    "\n",
    "log_data.to_csv('../csvs_files/mode2_performance.csv', index=False)"
   ]
  }
 ],
 "metadata": {
  "kernelspec": {
   "display_name": "dev",
   "language": "python",
   "name": "dev"
  },
  "language_info": {
   "codemirror_mode": {
    "name": "ipython",
    "version": 3
   },
   "file_extension": ".py",
   "mimetype": "text/x-python",
   "name": "python",
   "nbconvert_exporter": "python",
   "pygments_lexer": "ipython3",
   "version": "3.10.12"
  }
 },
 "nbformat": 4,
 "nbformat_minor": 5
}
