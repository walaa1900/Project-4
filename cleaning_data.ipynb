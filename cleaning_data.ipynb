{
 "cells": [
  {
   "cell_type": "code",
   "execution_count": 1,
   "id": "28d6b5d4",
   "metadata": {},
   "outputs": [],
   "source": [
    "import pandas as pd\n",
    "from sklearn.preprocessing import LabelEncoder, StandardScaler"
   ]
  },
  {
   "cell_type": "code",
   "execution_count": 5,
   "id": "acef1efe",
   "metadata": {},
   "outputs": [
    {
     "data": {
      "text/html": [
       "<div>\n",
       "<style scoped>\n",
       "    .dataframe tbody tr th:only-of-type {\n",
       "        vertical-align: middle;\n",
       "    }\n",
       "\n",
       "    .dataframe tbody tr th {\n",
       "        vertical-align: top;\n",
       "    }\n",
       "\n",
       "    .dataframe thead th {\n",
       "        text-align: right;\n",
       "    }\n",
       "</style>\n",
       "<table border=\"1\" class=\"dataframe\">\n",
       "  <thead>\n",
       "    <tr style=\"text-align: right;\">\n",
       "      <th></th>\n",
       "      <th>id</th>\n",
       "      <th>gender</th>\n",
       "      <th>age</th>\n",
       "      <th>hypertension</th>\n",
       "      <th>heart_disease</th>\n",
       "      <th>ever_married</th>\n",
       "      <th>work_type</th>\n",
       "      <th>Residence_type</th>\n",
       "      <th>avg_glucose_level</th>\n",
       "      <th>bmi</th>\n",
       "      <th>smoking_status</th>\n",
       "      <th>stroke</th>\n",
       "    </tr>\n",
       "  </thead>\n",
       "  <tbody>\n",
       "    <tr>\n",
       "      <th>0</th>\n",
       "      <td>9046</td>\n",
       "      <td>Male</td>\n",
       "      <td>67.0</td>\n",
       "      <td>0</td>\n",
       "      <td>1</td>\n",
       "      <td>Yes</td>\n",
       "      <td>Private</td>\n",
       "      <td>Urban</td>\n",
       "      <td>228.69</td>\n",
       "      <td>36.6</td>\n",
       "      <td>formerly smoked</td>\n",
       "      <td>1</td>\n",
       "    </tr>\n",
       "    <tr>\n",
       "      <th>1</th>\n",
       "      <td>51676</td>\n",
       "      <td>Female</td>\n",
       "      <td>61.0</td>\n",
       "      <td>0</td>\n",
       "      <td>0</td>\n",
       "      <td>Yes</td>\n",
       "      <td>Self-employed</td>\n",
       "      <td>Rural</td>\n",
       "      <td>202.21</td>\n",
       "      <td>NaN</td>\n",
       "      <td>never smoked</td>\n",
       "      <td>1</td>\n",
       "    </tr>\n",
       "    <tr>\n",
       "      <th>2</th>\n",
       "      <td>31112</td>\n",
       "      <td>Male</td>\n",
       "      <td>80.0</td>\n",
       "      <td>0</td>\n",
       "      <td>1</td>\n",
       "      <td>Yes</td>\n",
       "      <td>Private</td>\n",
       "      <td>Rural</td>\n",
       "      <td>105.92</td>\n",
       "      <td>32.5</td>\n",
       "      <td>never smoked</td>\n",
       "      <td>1</td>\n",
       "    </tr>\n",
       "    <tr>\n",
       "      <th>3</th>\n",
       "      <td>60182</td>\n",
       "      <td>Female</td>\n",
       "      <td>49.0</td>\n",
       "      <td>0</td>\n",
       "      <td>0</td>\n",
       "      <td>Yes</td>\n",
       "      <td>Private</td>\n",
       "      <td>Urban</td>\n",
       "      <td>171.23</td>\n",
       "      <td>34.4</td>\n",
       "      <td>smokes</td>\n",
       "      <td>1</td>\n",
       "    </tr>\n",
       "    <tr>\n",
       "      <th>4</th>\n",
       "      <td>1665</td>\n",
       "      <td>Female</td>\n",
       "      <td>79.0</td>\n",
       "      <td>1</td>\n",
       "      <td>0</td>\n",
       "      <td>Yes</td>\n",
       "      <td>Self-employed</td>\n",
       "      <td>Rural</td>\n",
       "      <td>174.12</td>\n",
       "      <td>24.0</td>\n",
       "      <td>never smoked</td>\n",
       "      <td>1</td>\n",
       "    </tr>\n",
       "  </tbody>\n",
       "</table>\n",
       "</div>"
      ],
      "text/plain": [
       "      id  gender   age  hypertension  heart_disease ever_married  \\\n",
       "0   9046    Male  67.0             0              1          Yes   \n",
       "1  51676  Female  61.0             0              0          Yes   \n",
       "2  31112    Male  80.0             0              1          Yes   \n",
       "3  60182  Female  49.0             0              0          Yes   \n",
       "4   1665  Female  79.0             1              0          Yes   \n",
       "\n",
       "       work_type Residence_type  avg_glucose_level   bmi   smoking_status  \\\n",
       "0        Private          Urban             228.69  36.6  formerly smoked   \n",
       "1  Self-employed          Rural             202.21   NaN     never smoked   \n",
       "2        Private          Rural             105.92  32.5     never smoked   \n",
       "3        Private          Urban             171.23  34.4           smokes   \n",
       "4  Self-employed          Rural             174.12  24.0     never smoked   \n",
       "\n",
       "   stroke  \n",
       "0       1  \n",
       "1       1  \n",
       "2       1  \n",
       "3       1  \n",
       "4       1  "
      ]
     },
     "execution_count": 5,
     "metadata": {},
     "output_type": "execute_result"
    }
   ],
   "source": [
    "file_path = './healthcare-dataset-stroke-data.csv'\n",
    "df = pd.read_csv(file_path)\n",
    "df.head()\n"
   ]
  },
  {
   "cell_type": "code",
   "execution_count": 6,
   "id": "ef2e4100",
   "metadata": {},
   "outputs": [],
   "source": [
    "# Handling missing values (Replace 'N/A' or 'NaN' with appropriate values)\n",
    "df['bmi'].replace('N/A', pd.NA, inplace=True)\n",
    "df['bmi'] = df['bmi'].astype(float)  # Convert 'bmi' column to numeri"
   ]
  },
  {
   "cell_type": "code",
   "execution_count": 7,
   "id": "99137d3a",
   "metadata": {},
   "outputs": [],
   "source": [
    "# Encode categorical variables using LabelEncoder\n",
    "label_encoders = {}\n",
    "categorical_columns = ['gender', 'ever_married', 'work_type', 'Residence_type', 'smoking_status']"
   ]
  },
  {
   "cell_type": "code",
   "execution_count": 9,
   "id": "d77efb5a",
   "metadata": {},
   "outputs": [],
   "source": [
    "for col in categorical_columns:\n",
    "    label_encoders[col] = LabelEncoder()\n",
    "    df[col] = label_encoders[col].fit_transform(df[col])"
   ]
  },
  {
   "cell_type": "code",
   "execution_count": 10,
   "id": "f25aa53b",
   "metadata": {},
   "outputs": [],
   "source": [
    "numerical_columns = ['age', 'avg_glucose_level', 'bmi']\n"
   ]
  },
  {
   "cell_type": "code",
   "execution_count": 14,
   "id": "1400786e",
   "metadata": {},
   "outputs": [
    {
     "name": "stdout",
     "output_type": "stream",
     "text": [
      "         id  gender   age  hypertension  heart_disease  ever_married  \\\n",
      "0      9046       1  67.0             0              1             1   \n",
      "1     51676       0  61.0             0              0             1   \n",
      "2     31112       1  80.0             0              1             1   \n",
      "3     60182       0  49.0             0              0             1   \n",
      "4      1665       0  79.0             1              0             1   \n",
      "...     ...     ...   ...           ...            ...           ...   \n",
      "5105  18234       0  80.0             1              0             1   \n",
      "5106  44873       0  81.0             0              0             1   \n",
      "5107  19723       0  35.0             0              0             1   \n",
      "5108  37544       1  51.0             0              0             1   \n",
      "5109  44679       0  44.0             0              0             1   \n",
      "\n",
      "      work_type  Residence_type  avg_glucose_level   bmi  smoking_status  \\\n",
      "0             2               1             228.69  36.6               1   \n",
      "1             3               0             202.21   NaN               2   \n",
      "2             2               0             105.92  32.5               2   \n",
      "3             2               1             171.23  34.4               3   \n",
      "4             3               0             174.12  24.0               2   \n",
      "...         ...             ...                ...   ...             ...   \n",
      "5105          2               1              83.75   NaN               2   \n",
      "5106          3               1             125.20  40.0               2   \n",
      "5107          3               0              82.99  30.6               2   \n",
      "5108          2               0             166.29  25.6               1   \n",
      "5109          0               1              85.28  26.2               0   \n",
      "\n",
      "      stroke  \n",
      "0          1  \n",
      "1          1  \n",
      "2          1  \n",
      "3          1  \n",
      "4          1  \n",
      "...      ...  \n",
      "5105       0  \n",
      "5106       0  \n",
      "5107       0  \n",
      "5108       0  \n",
      "5109       0  \n",
      "\n",
      "[5110 rows x 12 columns]\n"
     ]
    }
   ],
   "source": [
    "# print the preprocessed DataFrame\n",
    "print(df)\n"
   ]
  },
  {
   "cell_type": "code",
   "execution_count": 15,
   "id": "95313ad5",
   "metadata": {},
   "outputs": [],
   "source": [
    "# Replace 'N/A' with NaN in the entire DataFrame\n",
    "df.replace('N/A', pd.NA, inplace=True)\n",
    "\n",
    "# Handle missing values in a specific column (e.g., 'bmi')\n",
    "df['bmi'].fillna(df['bmi'].mean(), inplace=True)  # Replace NaN values with the mean of 'bmi'\n"
   ]
  },
  {
   "cell_type": "code",
   "execution_count": 16,
   "id": "0affa712",
   "metadata": {},
   "outputs": [],
   "source": [
    "from sklearn.preprocessing import LabelEncoder\n",
    "\n",
    "# List of categorical columns to encode\n",
    "categorical_columns = ['gender', 'ever_married', 'work_type', 'Residence_type', 'smoking_status']\n",
    "\n",
    "label_encoders = {}  # Dictionary to store label encoders for each column\n",
    "\n",
    "for col in categorical_columns:\n",
    "    label_encoders[col] = LabelEncoder()\n",
    "    df[col] = label_encoders[col].fit_transform(df[col])\n"
   ]
  },
  {
   "cell_type": "code",
   "execution_count": 17,
   "id": "35370317",
   "metadata": {},
   "outputs": [],
   "source": [
    "from sklearn.preprocessing import StandardScaler\n",
    "\n",
    "# List of numerical columns to scale\n",
    "numerical_columns = ['age', 'avg_glucose_level', 'bmi']\n",
    "\n",
    "scaler = StandardScaler()\n",
    "df[numerical_columns] = scaler.fit_transform(df[numerical_columns])\n"
   ]
  },
  {
   "cell_type": "code",
   "execution_count": 19,
   "id": "7c82b79b",
   "metadata": {},
   "outputs": [
    {
     "name": "stdout",
     "output_type": "stream",
     "text": [
      "      id  gender       age  hypertension  heart_disease  ever_married  \\\n",
      "0   9046       1  1.051434             0              1             1   \n",
      "1  51676       0  0.786070             0              0             1   \n",
      "2  31112       1  1.626390             0              1             1   \n",
      "3  60182       0  0.255342             0              0             1   \n",
      "4   1665       0  1.582163             1              0             1   \n",
      "\n",
      "   work_type  Residence_type  avg_glucose_level           bmi  smoking_status  \\\n",
      "0          2               1           2.706375  1.001234e+00               1   \n",
      "1          3               0           2.121559  4.615554e-16               2   \n",
      "2          2               0          -0.005028  4.685773e-01               2   \n",
      "3          2               1           1.437358  7.154182e-01               3   \n",
      "4          3               0           1.501184 -6.357112e-01               2   \n",
      "\n",
      "   stroke  \n",
      "0       1  \n",
      "1       1  \n",
      "2       1  \n",
      "3       1  \n",
      "4       1  \n"
     ]
    }
   ],
   "source": [
    "# Display the first few rows of the DataFrame\n",
    "print(df.head())"
   ]
  },
  {
   "cell_type": "code",
   "execution_count": 21,
   "id": "ea10b3ce",
   "metadata": {},
   "outputs": [],
   "source": [
    "# Save the DataFrame to a CSV file\n",
    "df.to_csv('cleaning_data.csv', index=False)\n"
   ]
  }
 ],
 "metadata": {
  "kernelspec": {
   "display_name": "dev",
   "language": "python",
   "name": "dev"
  },
  "language_info": {
   "codemirror_mode": {
    "name": "ipython",
    "version": 3
   },
   "file_extension": ".py",
   "mimetype": "text/x-python",
   "name": "python",
   "nbconvert_exporter": "python",
   "pygments_lexer": "ipython3",
   "version": "3.10.12"
  }
 },
 "nbformat": 4,
 "nbformat_minor": 5
}
